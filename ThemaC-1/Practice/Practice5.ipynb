{
 "cells": [
  {
   "cell_type": "code",
   "execution_count": null,
   "outputs": [],
   "source": [],
   "metadata": {
    "collapsed": false,
    "pycharm": {
     "name": "#%%\n"
    }
   }
  }
 ],
 "metadata": {
  "kernelspec": {
   "display_name": "Python 3",
   "language": "python",
   "name": "python3"
  },
  "language_info": {
   "codemirror_mode": {
    "name": "ipython",
    "version": 2
   },
   "file_extension": ".py",
   "mimetype": "text/x-python",
   "name": "python",
   "nbconvert_exporter": "python",
   "pygments_lexer": "ipython2",
   "version": "2.7.6"
  },
  "pycharm": {
   "stem_cell": {
    "cell_type": "raw",
    "source": [
     "# %%\n",
     "import numpy as np\n",
     "import matplotlib.pyplot as plt\n",
     "import csv\n",
     "import psutil\n",
     "import time\n",
     "\n",
     "filename = 'sample_write_row.csv'\n",
     "mem_list = []\n",
     "\n",
     "for i in range(18):\n",
     "    mem_list.append(round((psutil.virtual_memory().used / (1024.0 ** 3)),2))\n",
     "    time.sleep(10)\n",
     "with open(filename, 'w', encoding='utf-8') as f:\n",
     "    w = csv.writer(f)\n",
     "    w.writerow(mem_list)\n",
     "    f.close()\n",
     "\n",
     "with open(filename, 'r', encoding='utf-8') as f:\n",
     "    x = np.arange(0, 180, 10)\n",
     "    y = np.loadtxt(filename, delimiter=',')\n",
     "\n",
     "    plt.plot(x, y, color='red', marker='o')\n",
     "\n",
     "    plt.xticks(np.arange(0, 180, 10))\n",
     "    plt.title('My PC Memory Used.')\n",
     "    plt.xlabel('seconds')\n",
     "    plt.ylabel('Used/GB')\n",
     "    plt.grid(True)\n",
     "    plt.show()\n",
     "\n"
    ],
    "metadata": {
     "collapsed": false
    }
   }
  }
 },
 "nbformat": 4,
 "nbformat_minor": 1
}